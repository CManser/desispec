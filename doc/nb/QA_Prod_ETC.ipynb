{
 "cells": [
  {
   "cell_type": "markdown",
   "metadata": {},
   "source": [
    "# QA Production S/N with ETC expectations [v1.0]"
   ]
  },
  {
   "cell_type": "code",
   "execution_count": 7,
   "metadata": {},
   "outputs": [],
   "source": [
    "# imports\n",
    "from matplotlib import pyplot as plt\n",
    "import numpy as np\n",
    "\n",
    "import os\n",
    "from imp import reload\n",
    "\n",
    "from astropy import units as u\n",
    "from astropy import constants\n",
    "from astropy.cosmology import Planck15 as LCDM\n",
    "from astropy.table import Table\n",
    "\n",
    "from desispec.qa import qa_prod as dqap\n",
    "from desispec.qa import qa_plots as dqqp\n",
    "\n",
    "import specsim.simulator\n",
    "\n",
    "from desisurvey import etc\n",
    "import desisurvey"
   ]
  },
  {
   "cell_type": "markdown",
   "metadata": {},
   "source": [
    "## Load up QA"
   ]
  },
  {
   "cell_type": "code",
   "execution_count": 3,
   "metadata": {},
   "outputs": [],
   "source": [
    "os.environ['DESI_SPECTRO_REDUX'] = '/home/xavier/DESI/DESI_SCRATCH/18.11/spectro/redux'\n",
    "os.environ['SPECPROD'] = 'mini'"
   ]
  },
  {
   "cell_type": "code",
   "execution_count": 4,
   "metadata": {},
   "outputs": [
    {
     "name": "stdout",
     "output_type": "stream",
     "text": [
      "INFO:qa.py:220:load_qa_multiexp: Loading QA prod file: /home/xavier/DESI/DESI_SCRATCH/18.11/spectro/redux/mini/QA/20200316_qa.json\n",
      "INFO:qa.py:220:load_qa_multiexp: Loading QA prod file: /home/xavier/DESI/DESI_SCRATCH/18.11/spectro/redux/mini/QA/20200323_qa.json\n",
      "INFO:qa.py:220:load_qa_multiexp: Loading QA prod file: /home/xavier/DESI/DESI_SCRATCH/18.11/spectro/redux/mini/QA/20200324_qa.json\n",
      "INFO:qa.py:220:load_qa_multiexp: Loading QA prod file: /home/xavier/DESI/DESI_SCRATCH/18.11/spectro/redux/mini/QA/20200325_qa.json\n"
     ]
    }
   ],
   "source": [
    "qa_prod = dqap.QA_Prod()\n",
    "qa_prod.load_data()\n",
    "qa_prod.load_exposure_s2n()"
   ]
  },
  {
   "cell_type": "markdown",
   "metadata": {},
   "source": [
    "## Init DESI Simulator"
   ]
  },
  {
   "cell_type": "code",
   "execution_count": 33,
   "metadata": {},
   "outputs": [
    {
     "name": "stderr",
     "output_type": "stream",
     "text": [
      "/home/xavier/.pyenv/versions/anaconda3-5.0.1/lib/python3.6/site-packages/speclite-0.8.dev479-py3.6.egg/speclite/filters.py:1461: FutureWarning: Using a non-tuple sequence for multidimensional indexing is deprecated; use `arr[tuple(seq)]` instead of `arr[seq]`. In the future this will be interpreted as an array index, `arr[np.array(seq)]`, which will result either in an error or a different result.\n",
      "  values_no_units = values_no_units[values_slice]\n"
     ]
    }
   ],
   "source": [
    "nfiber = 100\n",
    "desi = specsim.simulator.Simulator('desi', num_fibers=nfiber)"
   ]
  },
  {
   "cell_type": "markdown",
   "metadata": {},
   "source": [
    "## ELG profiles (from desimodel/doc/nb/ELG_SNR.ipynb)\n",
    "    Used for the fiducial S/N value"
   ]
  },
  {
   "cell_type": "code",
   "execution_count": 49,
   "metadata": {},
   "outputs": [],
   "source": [
    "def generate_elg_profiles(z, seed=123, verbose=False):\n",
    "    \"\"\"ELG profiles are assumed to be disk (Sersic n=1) only.\n",
    "    \"\"\"\n",
    "    gen = np.random.RandomState(seed)\n",
    "    nsrc = len(z)\n",
    "    source_fraction = np.zeros((nsrc, 2))\n",
    "    source_half_light_radius = np.zeros((nsrc, 2))\n",
    "    source_minor_major_axis_ratio = np.zeros((nsrc, 2))\n",
    "    source_position_angle = 360. * gen.normal(size=(nsrc, 2))\n",
    "    # Precompute cosmology scale factors.\n",
    "    angscale = (\n",
    "        LCDM.angular_diameter_distance(1.0) /\n",
    "        LCDM.angular_diameter_distance(z)).to(1).value\n",
    "    if verbose:\n",
    "        print(f'mean n(z) DA(1.0)/DA(z) = {np.mean(angscale):.3f}')\n",
    "    # Disk only with random size and ellipticity.\n",
    "    source_fraction[:, 0] = 1.\n",
    "    source_half_light_radius[:, 0] = 0.427 * np.exp(0.25 * gen.normal(size=nsrc)) * angscale\n",
    "    source_minor_major_axis_ratio[:, 0] = np.minimum(0.99, 0.50 * np.exp(0.15 * gen.normal(size=nsrc)))\n",
    "    if verbose:\n",
    "        print(f'mean HLR = {np.mean(source_half_light_radius[:, 0]):.3f}\"')\n",
    "    return dict(\n",
    "        source_fraction=source_fraction,\n",
    "        source_half_light_radius=source_half_light_radius,\n",
    "        source_minor_major_axis_ratio=source_minor_major_axis_ratio,\n",
    "        source_position_angle=source_position_angle)"
   ]
  },
  {
   "cell_type": "markdown",
   "metadata": {},
   "source": [
    "## Run DESI Simulator for z=1 ELGs with R = 23 mag\n",
    "    This yields pixel_snr, the S/N per DESI pixel for fiducial conditions and exposure time"
   ]
  },
  {
   "cell_type": "code",
   "execution_count": 99,
   "metadata": {},
   "outputs": [],
   "source": [
    "wave = desi.simulated['wavelength'].data * u.Angstrom"
   ]
  },
  {
   "cell_type": "code",
   "execution_count": 105,
   "metadata": {},
   "outputs": [],
   "source": [
    "# Flux\n",
    "mR = 23.   # AB R-band; entirely flat spectrum\n",
    "fnu = 10**(-1*(mR + 48.6)/2.5) * u.erg/u.s/u.cm**2/u.Hz\n",
    "# \n",
    "flamb = (fnu * constants.c / (wave**2)).to('erg/(s cm**2 Angstrom)')\n",
    "flux = np.ones_like(wave.value) * flamb"
   ]
  },
  {
   "cell_type": "code",
   "execution_count": 106,
   "metadata": {},
   "outputs": [],
   "source": [
    "desi.source.update_in('ELG', 'elg', wave, flux, z_in=0.)\n",
    "desi.source.update_out()"
   ]
  },
  {
   "cell_type": "code",
   "execution_count": 124,
   "metadata": {},
   "outputs": [],
   "source": [
    "z_ELG = 1.  # Varying this varies pixel_snr by~5%\n",
    "sources = generate_elg_profiles(np.ones(nfiber)*z_ELG)\n",
    "desi.simulate(**sources)"
   ]
  },
  {
   "cell_type": "code",
   "execution_count": 125,
   "metadata": {},
   "outputs": [
    {
     "name": "stdout",
     "output_type": "stream",
     "text": [
      "S/N per Pixel =  0.30133061608707934\n"
     ]
    }
   ],
   "source": [
    "# Calculate across r-channel\n",
    "#lo, hi = 6605., 6650.\n",
    "lo, hi = 5700, 7550.\n",
    "#\n",
    "routput = desi.camera_output[1]\n",
    "sel = (routput['wavelength'] > lo) & (routput['wavelength'] < hi)\n",
    "pixel_snr = np.median(np.sqrt(routput['num_source_electrons'][sel] ** 2 / routput['variance_electrons'][sel]))\n",
    "print(\"S/N per Pixel = \", pixel_snr)"
   ]
  },
  {
   "cell_type": "markdown",
   "metadata": {},
   "source": [
    "## Load observing meta for 18.11"
   ]
  },
  {
   "cell_type": "code",
   "execution_count": 80,
   "metadata": {
    "scrolled": true
   },
   "outputs": [
    {
     "data": {
      "text/html": [
       "<i>Table length=6</i>\n",
       "<table id=\"table140184976791704\" class=\"table-striped table-bordered table-condensed\">\n",
       "<thead><tr><th>EXPID</th><th>TILEID</th><th>PASS</th><th>RA</th><th>DEC</th><th>EBMV</th><th>NIGHT</th><th>MJD</th><th>EXPTIME</th><th>SEEING</th><th>TRANSPARENCY</th><th>AIRMASS</th><th>MOONFRAC</th><th>MOONALT</th><th>MOONSEP</th><th>PROGRAM</th><th>FLAVOR</th></tr></thead>\n",
       "<thead><tr><th></th><th></th><th></th><th>deg</th><th>deg</th><th></th><th></th><th></th><th>s</th><th>arcsec</th><th></th><th></th><th></th><th>deg</th><th>deg</th><th></th><th></th></tr></thead>\n",
       "<thead><tr><th>int32</th><th>int32</th><th>int16</th><th>float64</th><th>float64</th><th>float32</th><th>bytes8</th><th>float64</th><th>float64</th><th>float64</th><th>float64</th><th>float64</th><th>float64</th><th>float64</th><th>float64</th><th>bytes6</th><th>bytes7</th></tr></thead>\n",
       "<tr><td>7</td><td>1165</td><td>0</td><td>150.69</td><td>33.86</td><td>0.012653735</td><td>20200316</td><td>58925.11311485859</td><td>722.8547808959272</td><td>0.7572662830352783</td><td>0.7192993760108948</td><td>1.288850214050581</td><td>0.40834738029550954</td><td>-79.23115858223505</td><td>131.63996122192202</td><td>DARK</td><td>science</td></tr>\n",
       "<tr><td>8</td><td>1165</td><td>0</td><td>150.69</td><td>33.86</td><td>0.012653735</td><td>20200316</td><td>58925.12287012226</td><td>675.8994891331757</td><td>0.7572662830352783</td><td>0.7192993760108948</td><td>1.288850214050581</td><td>0.40834738029550954</td><td>-79.23115858223505</td><td>131.63996122192202</td><td>DARK</td><td>science</td></tr>\n",
       "<tr><td>9</td><td>28408</td><td>4</td><td>150.73000000000002</td><td>30.52</td><td>0.019678533</td><td>20200316</td><td>58925.38056481799</td><td>683.2302925965058</td><td>1.0805422067642212</td><td>0.9904059171676636</td><td>1.3469365504267803</td><td>0.40834738029550954</td><td>-4.92578905244666</td><td>135.3911422523808</td><td>GRAY</td><td>science</td></tr>\n",
       "<tr><td>10</td><td>28408</td><td>4</td><td>150.73000000000002</td><td>30.52</td><td>0.019678533</td><td>20200316</td><td>58925.38986146489</td><td>757.8536680645208</td><td>1.0805422067642212</td><td>0.9904059171676636</td><td>1.3469365504267803</td><td>0.40834738029550954</td><td>-4.92578905244666</td><td>135.3911422523808</td><td>GRAY</td><td>science</td></tr>\n",
       "<tr><td>11</td><td>24227</td><td>4</td><td>151.56</td><td>33.18</td><td>0.014674147</td><td>20200316</td><td>58925.40002180828</td><td>1387.689052366479</td><td>0.7902518510818481</td><td>0.9675605893135071</td><td>1.4453411661559534</td><td>0.40834738029550954</td><td>-0.04316561487306103</td><td>135.05038058305783</td><td>GRAY</td><td>science</td></tr>\n",
       "<tr><td>12</td><td>-1</td><td>-1</td><td>0.0</td><td>0.0</td><td>0.0</td><td>20200323</td><td>58932.10744446016</td><td>10.0</td><td>0.0</td><td>0.0</td><td>0.0</td><td>0.0</td><td>0.0</td><td>0.0</td><td>CALIB</td><td>arc</td></tr>\n",
       "</table>"
      ],
      "text/plain": [
       "<Table length=6>\n",
       "EXPID TILEID  PASS         RA         ...      MOONSEP       PROGRAM  FLAVOR\n",
       "                          deg         ...        deg                        \n",
       "int32 int32  int16      float64       ...      float64        bytes6  bytes7\n",
       "----- ------ ----- ------------------ ... ------------------ ------- -------\n",
       "    7   1165     0             150.69 ... 131.63996122192202    DARK science\n",
       "    8   1165     0             150.69 ... 131.63996122192202    DARK science\n",
       "    9  28408     4 150.73000000000002 ...  135.3911422523808    GRAY science\n",
       "   10  28408     4 150.73000000000002 ...  135.3911422523808    GRAY science\n",
       "   11  24227     4             151.56 ... 135.05038058305783    GRAY science\n",
       "   12     -1    -1                0.0 ...                0.0   CALIB     arc"
      ]
     },
     "execution_count": 80,
     "metadata": {},
     "output_type": "execute_result"
    }
   ],
   "source": [
    "meta = Table.read('/home/xavier/DESI/DESI_SCRATCH/18.11/survey/exposures.fits')\n",
    "meta[7:13]"
   ]
  },
  {
   "cell_type": "markdown",
   "metadata": {},
   "source": [
    "## Plot time"
   ]
  },
  {
   "cell_type": "code",
   "execution_count": 91,
   "metadata": {},
   "outputs": [
    {
     "data": {
      "image/png": "[encoded data removed]",
      "text/plain": [
       "<matplotlib.figure.Figure at 0x7f7f588a8710>"
      ]
     },
     "metadata": {},
     "output_type": "display_data"
    }
   ],
   "source": [
    "reload(dqqp)\n",
    "dqqp.prod_avg_s2n(qa_prod, xaxis='expid')"
   ]
  },
  {
   "cell_type": "code",
   "execution_count": 123,
   "metadata": {},
   "outputs": [
    {
     "data": {
      "image/png": "[encoded data removed]",
      "text/plain": [
       "<matplotlib.figure.Figure at 0x7f7f58865da0>"
      ]
     },
     "metadata": {},
     "output_type": "display_data"
    }
   ],
   "source": [
    "reload(dqqp)\n",
    "dqqp.prod_delta_s2n(qa_prod, meta, xaxis='texp')"
   ]
  },
  {
   "cell_type": "markdown",
   "metadata": {},
   "source": [
    "----"
   ]
  },
  {
   "cell_type": "markdown",
   "metadata": {},
   "source": [
    "## TESTING"
   ]
  },
  {
   "cell_type": "code",
   "execution_count": 79,
   "metadata": {},
   "outputs": [
    {
     "data": {
      "text/plain": [
       "0.7071067811865476"
      ]
     },
     "execution_count": 79,
     "metadata": {},
     "output_type": "execute_result"
    }
   ],
   "source": [
    "np.sqrt(0.5)"
   ]
  },
  {
   "cell_type": "code",
   "execution_count": 38,
   "metadata": {},
   "outputs": [
    {
     "data": {
      "text/latex": [
       "$[3550,~3550.1,~3550.2,~\\dots,~9849.8,~9849.9,~9850] \\; \\mathrm{\\mathring{A}}$"
      ],
      "text/plain": [
       "<Quantity [3550. , 3550.1, 3550.2, ..., 9849.8, 9849.9, 9850. ] Angstrom>"
      ]
     },
     "execution_count": 38,
     "metadata": {},
     "output_type": "execute_result"
    }
   ],
   "source": [
    "desi.source.wavelength_out"
   ]
  },
  {
   "cell_type": "code",
   "execution_count": 40,
   "metadata": {},
   "outputs": [
    {
     "data": {
      "text/plain": [
       "9850.0"
      ]
     },
     "execution_count": 40,
     "metadata": {},
     "output_type": "execute_result"
    }
   ],
   "source": [
    "desi.simulated['wavelength'][-1]"
   ]
  },
  {
   "cell_type": "code",
   "execution_count": 46,
   "metadata": {},
   "outputs": [],
   "source": [
    "# Fiducial r-band wavelengths with padding for specsim\n",
    "wlen = np.array([3549.]+(6600. + np.arange(300)).tolist() + [9855.]) * u.Angstrom"
   ]
  },
  {
   "cell_type": "code",
   "execution_count": 82,
   "metadata": {},
   "outputs": [],
   "source": [
    "z_ELG = 1."
   ]
  },
  {
   "cell_type": "code",
   "execution_count": 83,
   "metadata": {},
   "outputs": [
    {
     "name": "stderr",
     "output_type": "stream",
     "text": [
      "WARNING: UnitsWarning: 'erg/s/cm**2/Angstrom' contains multiple slashes, which is discouraged by the FITS standard [astropy.units.format.generic]\n"
     ]
    }
   ],
   "source": [
    "# Flux\n",
    "mR = 23. # AB R-band\n",
    "fnu = 10**(-1*(mR + 48.6)/2.5) * u.erg/u.s/u.cm**2/u.Hz\n",
    "# \n",
    "flamb = (fnu * constants.c / np.median(wlen)**2).to('erg/s/cm**2/Angstrom')\n",
    "flux = np.ones_like(wlen.value) * flamb"
   ]
  },
  {
   "cell_type": "code",
   "execution_count": 84,
   "metadata": {},
   "outputs": [],
   "source": [
    "desi.source.update_in('ELG [OII] doublet', 'elg', wlen, flux, z_in=0.)"
   ]
  },
  {
   "cell_type": "code",
   "execution_count": 85,
   "metadata": {},
   "outputs": [],
   "source": [
    "desi.source.update_out()#z_out=0.)"
   ]
  },
  {
   "cell_type": "code",
   "execution_count": 86,
   "metadata": {},
   "outputs": [],
   "source": [
    "sources = generate_elg_profiles(np.ones(nfiber)*z_ELG)"
   ]
  },
  {
   "cell_type": "code",
   "execution_count": 87,
   "metadata": {},
   "outputs": [],
   "source": [
    "desi.simulate(**sources)#source_fluxes=source_flux)"
   ]
  },
  {
   "cell_type": "code",
   "execution_count": 88,
   "metadata": {},
   "outputs": [
    {
     "name": "stdout",
     "output_type": "stream",
     "text": [
      "1 0.08471365025084916\n"
     ]
    }
   ],
   "source": [
    "z=0.\n",
    "lo, hi = 6605., 6650.\n",
    "for icamera, output in enumerate(desi.camera_output):\n",
    "    rest_wlen = output['wavelength'] / (1 + z)\n",
    "    # Loop over emission lines.\n",
    "    sel = (rest_wlen >= lo) & (rest_wlen < hi)\n",
    "    if not np.any(sel):\n",
    "        continue\n",
    "    # Sum SNR2 over pixels.\n",
    "    pixel_snr2 = output['num_source_electrons'][sel] ** 2 / output['variance_electrons'][sel]\n",
    "    #import pdb; pdb.set_trace()\n",
    "    print(icamera, np.median(pixel_snr2))"
   ]
  },
  {
   "cell_type": "code",
   "execution_count": 50,
   "metadata": {},
   "outputs": [
    {
     "data": {
      "text/plain": [
       "3"
      ]
     },
     "execution_count": 50,
     "metadata": {},
     "output_type": "execute_result"
    }
   ],
   "source": [
    "len(desi.camera_output)"
   ]
  },
  {
   "cell_type": "code",
   "execution_count": 57,
   "metadata": {},
   "outputs": [
    {
     "data": {
      "text/plain": [
       "'fastsim'"
      ]
     },
     "execution_count": 57,
     "metadata": {},
     "output_type": "execute_result"
    }
   ],
   "source": [
    "desi.instrument.fiberloss_method "
   ]
  },
  {
   "cell_type": "code",
   "execution_count": 58,
   "metadata": {},
   "outputs": [
    {
     "data": {
      "text/latex": [
       "$1000 \\; \\mathrm{s}$"
      ],
      "text/plain": [
       "<Quantity 1000. s>"
      ]
     },
     "execution_count": 58,
     "metadata": {},
     "output_type": "execute_result"
    }
   ],
   "source": [
    "desi.observation.exposure_time"
   ]
  },
  {
   "cell_type": "code",
   "execution_count": 89,
   "metadata": {},
   "outputs": [
    {
     "data": {
      "text/latex": [
       "$1.1 \\; \\mathrm{{}^{\\prime\\prime}}$"
      ],
      "text/plain": [
       "<Quantity 1.1 arcsec>"
      ]
     },
     "execution_count": 89,
     "metadata": {},
     "output_type": "execute_result"
    }
   ],
   "source": [
    "desi.atmosphere.seeing_fwhm_ref"
   ]
  },
  {
   "cell_type": "markdown",
   "metadata": {},
   "source": [
    "## Observing meta"
   ]
  },
  {
   "cell_type": "code",
   "execution_count": 12,
   "metadata": {},
   "outputs": [
    {
     "data": {
      "text/html": [
       "<i>Row index=32</i>\n",
       "<table id=\"table140184986881664\">\n",
       "<thead><tr><th>EXPID</th><th>TILEID</th><th>PASS</th><th>RA</th><th>DEC</th><th>EBMV</th><th>NIGHT</th><th>MJD</th><th>EXPTIME</th><th>SEEING</th><th>TRANSPARENCY</th><th>AIRMASS</th><th>MOONFRAC</th><th>MOONALT</th><th>MOONSEP</th><th>PROGRAM</th><th>FLAVOR</th></tr></thead>\n",
       "<thead><tr><th></th><th></th><th></th><th>deg</th><th>deg</th><th></th><th></th><th></th><th>s</th><th>arcsec</th><th></th><th></th><th></th><th>deg</th><th>deg</th><th></th><th></th></tr></thead>\n",
       "<thead><tr><th>int32</th><th>int32</th><th>int16</th><th>float64</th><th>float64</th><th>float32</th><th>bytes8</th><th>float64</th><th>float64</th><th>float64</th><th>float64</th><th>float64</th><th>float64</th><th>float64</th><th>float64</th><th>bytes6</th><th>bytes7</th></tr></thead>\n",
       "<tr><td>32</td><td>16870</td><td>2</td><td>151.96000000000004</td><td>31.21</td><td>0.02075856</td><td>20200324</td><td>58933.132231053656</td><td>708.1042326110194</td><td>1.100396990776062</td><td>0.970128059387207</td><td>1.1392055865516846</td><td>0.00905324863754342</td><td>-12.7429369806801</td><td>130.04276047992806</td><td>DARK</td><td>science</td></tr>\n",
       "</table>"
      ],
      "text/plain": [
       "<Row index=32>\n",
       "EXPID TILEID  PASS         RA           DEC      EBMV     NIGHT          MJD              EXPTIME            SEEING         TRANSPARENCY        AIRMASS             MOONFRAC           MOONALT           MOONSEP       PROGRAM  FLAVOR\n",
       "                          deg           deg                                                  s               arcsec                                                                      deg               deg                        \n",
       "int32 int32  int16      float64       float64  float32    bytes8       float64            float64           float64           float64           float64             float64            float64           float64        bytes6  bytes7\n",
       "----- ------ ----- ------------------ ------- ---------- -------- ------------------ ----------------- ----------------- ----------------- ------------------ ------------------- ----------------- ------------------ ------- -------\n",
       "   32  16870     2 151.96000000000004   31.21 0.02075856 20200324 58933.132231053656 708.1042326110194 1.100396990776062 0.970128059387207 1.1392055865516846 0.00905324863754342 -12.7429369806801 130.04276047992806    DARK science"
      ]
     },
     "execution_count": 12,
     "metadata": {},
     "output_type": "execute_result"
    }
   ],
   "source": [
    "row = meta[32]\n",
    "row"
   ]
  },
  {
   "cell_type": "code",
   "execution_count": 8,
   "metadata": {},
   "outputs": [],
   "source": [
    "config = desisurvey.config.Configuration()"
   ]
  },
  {
   "cell_type": "code",
   "execution_count": 14,
   "metadata": {},
   "outputs": [
    {
     "data": {
      "text/latex": [
       "$1000 \\; \\mathrm{s}$"
      ],
      "text/plain": [
       "<Quantity 1000. s>"
      ]
     },
     "execution_count": 14,
     "metadata": {},
     "output_type": "execute_result"
    }
   ],
   "source": [
    "program = row['PROGRAM']\n",
    "nominal_time = getattr(config.nominal_exposure_time, program)()\n",
    "nominal_time"
   ]
  },
  {
   "cell_type": "code",
   "execution_count": 81,
   "metadata": {},
   "outputs": [
    {
     "data": {
      "text/plain": [
       "(1.0335270070368503,\n",
       " 1.0933896665649285,\n",
       " 1.5847580463848796,\n",
       " 1.0,\n",
       " 0.6650479063892011,\n",
       " 1.19100254882115)"
      ]
     },
     "execution_count": 81,
     "metadata": {},
     "output_type": "execute_result"
    }
   ],
   "source": [
    "row = meta[11]\n",
    "f_transparency = etc.transparency_exposure_factor(row['TRANSPARENCY'])\n",
    "f_dust = etc.dust_exposure_factor(row['EBMV'])\n",
    "f_airmass = etc.airmass_exposure_factor(row['AIRMASS'])\n",
    "f_moon = etc.moon_exposure_factor(row['MOONFRAC'], row['MOONSEP'], row['MOONALT'], row['AIRMASS'])\n",
    "f_seeing = etc.seeing_exposure_factor(row['SEEING'])\n",
    "f_transparency, f_dust, f_airmass, f_moon, f_seeing, (f_transparency*f_dust*f_airmass*f_moon*f_seeing)"
   ]
  },
  {
   "cell_type": "code",
   "execution_count": 82,
   "metadata": {},
   "outputs": [
    {
     "data": {
      "text/latex": [
       "$1191.0025 \\; \\mathrm{s}$"
      ],
      "text/plain": [
       "<Quantity 1191.00254882 s>"
      ]
     },
     "execution_count": 82,
     "metadata": {},
     "output_type": "execute_result"
    }
   ],
   "source": [
    "nominal_time * f_seeing * f_transparency * f_dust * f_airmass * f_moon "
   ]
  },
  {
   "cell_type": "markdown",
   "metadata": {},
   "source": [
    "----"
   ]
  },
  {
   "cell_type": "markdown",
   "metadata": {},
   "source": [
    "## Questions\n",
    "    What size is sensible? (e.g. what median redshift for r=23 mag?)\n",
    "    How is seeing being handled"
   ]
  },
  {
   "cell_type": "code",
   "execution_count": null,
   "metadata": {},
   "outputs": [],
   "source": []
  }
 ],
 "metadata": {
  "kernelspec": {
   "display_name": "Python 3",
   "language": "python",
   "name": "python3"
  },
  "language_info": {
   "codemirror_mode": {
    "name": "ipython",
    "version": 3
   },
   "file_extension": ".py",
   "mimetype": "text/x-python",
   "name": "python",
   "nbconvert_exporter": "python",
   "pygments_lexer": "ipython3",
   "version": "3.6.3"
  }
 },
 "nbformat": 4,
 "nbformat_minor": 2
}
